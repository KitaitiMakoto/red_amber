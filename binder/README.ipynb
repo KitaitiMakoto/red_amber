{
 "cells": [
  {
   "cell_type": "markdown",
   "id": "71980c97-53ac-4806-9ba8-7d419aa2a5e4",
   "metadata": {},
   "source": [
    "# README - RedAmber"
   ]
  },
  {
   "cell_type": "markdown",
   "id": "c598dd20-bd5b-4b7d-b403-08446d0017c0",
   "metadata": {},
   "source": [
    "This notebook walks through [README of RedAmber](https://github.com/heronshoes/red_amber/blob/master/README.md)."
   ]
  },
  {
   "cell_type": "code",
   "execution_count": 1,
   "id": "a3e1fe62-a96f-4a93-8fd4-0c42b74d8056",
   "metadata": {},
   "outputs": [
    {
     "data": {
      "text/plain": [
       "{:RedAmber=>\"0.2.1\", :Arrow=>\"9.0.0\"}"
      ]
     },
     "execution_count": 1,
     "metadata": {},
     "output_type": "execute_result"
    }
   ],
   "source": [
    "require 'red_amber' # require 'red-amber' is also OK.\n",
    "{RedAmber: RedAmber::VERSION, Arrow: Arrow::VERSION}"
   ]
  },
  {
   "cell_type": "markdown",
   "id": "d57bab0e-c5fa-4abc-94d0-657addca3a30",
   "metadata": {},
   "source": [
    "## `RedAmber::DataFrame`\n",
    "\n",
    "It represents a set of data in 2D-shape. The entity is a Red Arrow's Table object. \n",
    "\n",
    "![dataframe model of RedAmber](https://github.com/heronshoes/red_amber/raw/master/doc/image/dataframe_model.png)"
   ]
  },
  {
   "cell_type": "markdown",
   "id": "0ff1f884-0e82-4bf0-9a6a-72a5577eafb3",
   "metadata": {},
   "source": [
    "Download Penguins dataset from Red Data Tools and create DataFrame."
   ]
  },
  {
   "cell_type": "code",
   "execution_count": 2,
   "id": "f26c2e12-1373-4704-8a0d-1d9bb4b95730",
   "metadata": {},
   "outputs": [
    {
     "data": {
      "text/html": [
       "RedAmber::DataFrame <344 x 8 vectors> <table><tr><th>species</th><th>island</th><th>bill_length_mm</th><th>bill_depth_mm</th><th>flipper_length_mm</th><th>body_mass_g</th><th>sex</th><th>year</th></tr><tr><td>Adelie</td><td>Torgersen</td><td>39.1</td><td>18.7</td><td>181</td><td>3750</td><td>male</td><td>2007</td></tr><tr><td>Adelie</td><td>Torgersen</td><td>39.5</td><td>17.4</td><td>186</td><td>3800</td><td>female</td><td>2007</td></tr><tr><td>Adelie</td><td>Torgersen</td><td>40.3</td><td>18.0</td><td>195</td><td>3250</td><td>female</td><td>2007</td></tr><tr><td>Adelie</td><td>Torgersen</td><td><i>(nil)</i></td><td><i>(nil)</i></td><td><i>(nil)</i></td><td><i>(nil)</i></td><td><i>(nil)</i></td><td>2007</td></tr><tr><td colspan='8'>&#8942;</td></tr><tr><td>Gentoo</td><td>Biscoe</td><td>50.4</td><td>15.7</td><td>222</td><td>5750</td><td>male</td><td>2009</td></tr><tr><td>Gentoo</td><td>Biscoe</td><td>45.2</td><td>14.8</td><td>212</td><td>5200</td><td>female</td><td>2009</td></tr><tr><td>Gentoo</td><td>Biscoe</td><td>49.9</td><td>16.1</td><td>213</td><td>5400</td><td>male</td><td>2009</td></tr></table>"
      ],
      "text/plain": [
       "#<RedAmber::DataFrame : 344 x 8 Vectors, 0x000000000000f0dc>\n",
       "    species  island    bill_length_mm bill_depth_mm flipper_length_mm ...     year\n",
       "    <string> <string>        <double>      <double>           <uint8> ... <uint16>\n",
       "  1 Adelie   Torgersen           39.1          18.7               181 ...     2007\n",
       "  2 Adelie   Torgersen           39.5          17.4               186 ...     2007\n",
       "  3 Adelie   Torgersen           40.3          18.0               195 ...     2007\n",
       "  4 Adelie   Torgersen          (nil)         (nil)             (nil) ...     2007\n",
       "  5 Adelie   Torgersen           36.7          19.3               193 ...     2007\n",
       "  : :        :                      :             :                 : ...        :\n",
       "342 Gentoo   Biscoe              50.4          15.7               222 ...     2009\n",
       "343 Gentoo   Biscoe              45.2          14.8               212 ...     2009\n",
       "344 Gentoo   Biscoe              49.9          16.1               213 ...     2009\n"
      ]
     },
     "execution_count": 2,
     "metadata": {},
     "output_type": "execute_result"
    }
   ],
   "source": [
    "require 'datasets-arrow'\n",
    "\n",
    "arrow = Datasets::Penguins.new.to_arrow\n",
    "penguins = RedAmber::DataFrame.new(arrow)"
   ]
  },
  {
   "cell_type": "markdown",
   "id": "5764ebab-3732-441d-a407-62afbd6137bb",
   "metadata": {},
   "source": [
    "For example, `DataFrame#pick` accepts keys as arguments and returns a sub DataFrame.\n",
    "\n",
    "![pick method image](https://github.com/heronshoes/red_amber/raw/master/doc/image/dataframe/pick.png)"
   ]
  },
  {
   "cell_type": "code",
   "execution_count": 3,
   "id": "a7141fed-bac5-4c4c-add9-a681b28ad6aa",
   "metadata": {},
   "outputs": [
    {
     "data": {
      "text/plain": [
       "[:species, :island, :bill_length_mm, :bill_depth_mm, :flipper_length_mm, :body_mass_g, :sex, :year]"
      ]
     },
     "execution_count": 3,
     "metadata": {},
     "output_type": "execute_result"
    }
   ],
   "source": [
    "penguins.keys"
   ]
  },
  {
   "cell_type": "code",
   "execution_count": 4,
   "id": "e4b7b564-18af-446a-87e2-f4d220050573",
   "metadata": {},
   "outputs": [
    {
     "data": {
      "text/html": [
       "RedAmber::DataFrame <344 x 3 vectors> <table><tr><th>species</th><th>island</th><th>body_mass_g</th></tr><tr><td>Adelie</td><td>Torgersen</td><td>3750</td></tr><tr><td>Adelie</td><td>Torgersen</td><td>3800</td></tr><tr><td>Adelie</td><td>Torgersen</td><td>3250</td></tr><tr><td>Adelie</td><td>Torgersen</td><td><i>(nil)</i></td></tr><tr><td colspan='3'>&#8942;</td></tr><tr><td>Gentoo</td><td>Biscoe</td><td>5750</td></tr><tr><td>Gentoo</td><td>Biscoe</td><td>5200</td></tr><tr><td>Gentoo</td><td>Biscoe</td><td>5400</td></tr></table>"
      ],
      "text/plain": [
       "#<RedAmber::DataFrame : 344 x 3 Vectors, 0x000000000000f0f0>\n",
       "    species  island    body_mass_g\n",
       "    <string> <string>     <uint16>\n",
       "  1 Adelie   Torgersen        3750\n",
       "  2 Adelie   Torgersen        3800\n",
       "  3 Adelie   Torgersen        3250\n",
       "  4 Adelie   Torgersen       (nil)\n",
       "  5 Adelie   Torgersen        3450\n",
       "  : :        :                   :\n",
       "342 Gentoo   Biscoe           5750\n",
       "343 Gentoo   Biscoe           5200\n",
       "344 Gentoo   Biscoe           5400\n"
      ]
     },
     "execution_count": 4,
     "metadata": {},
     "output_type": "execute_result"
    }
   ],
   "source": [
    "df1 = penguins.pick(:species, :island, :body_mass_g)"
   ]
  },
  {
   "cell_type": "markdown",
   "id": "74cf2b78-1f4e-4c1c-a5d7-2f3012b4d0e3",
   "metadata": {},
   "source": [
    "`DataFrame#drop` drops some columns to create a remainer DataFrame.\n",
    "\n",
    "![drop method image](https://github.com/heronshoes/red_amber/raw/master/doc/image/dataframe/drop.png)\n",
    "\n",
    "You can specify by keys or a boolean array of same size as n_keys."
   ]
  },
  {
   "cell_type": "code",
   "execution_count": 5,
   "id": "8761b3e7-5c5e-4443-be3e-cf7b549688b2",
   "metadata": {},
   "outputs": [
    {
     "data": {
      "text/html": [
       "RedAmber::DataFrame <344 x 1 vector> <table><tr><th>body_mass_g</th></tr><tr><td>3750</td></tr><tr><td>3800</td></tr><tr><td>3250</td></tr><tr><td><i>(nil)</i></td></tr><tr><td>&#8942;</td></tr><tr><td>5750</td></tr><tr><td>5200</td></tr><tr><td>5400</td></tr></table>"
      ],
      "text/plain": [
       "#<RedAmber::DataFrame : 344 x 1 Vector, 0x000000000000f104>\n",
       "    body_mass_g\n",
       "       <uint16>\n",
       "  1        3750\n",
       "  2        3800\n",
       "  3        3250\n",
       "  4       (nil)\n",
       "  5        3450\n",
       "  :           :\n",
       "342        5750\n",
       "343        5200\n",
       "344        5400\n"
      ]
     },
     "execution_count": 5,
     "metadata": {},
     "output_type": "execute_result"
    }
   ],
   "source": [
    "# Same as df.drop(:species, :island)\n",
    "df2 = df1.drop(true, true, false)"
   ]
  },
  {
   "cell_type": "markdown",
   "id": "4c1b003b-b9cc-4e5b-b857-fc7896b97c41",
   "metadata": {},
   "source": [
    "Arrow data is immutable, so these methods always return an new object.\n",
    "\n",
    "`DataFrame#assign` creates new columns or update existing columns.\n",
    "\n",
    "![assign method image](https://github.com/heronshoes/red_amber/raw/master/doc/image/dataframe/assign.png)\n",
    "\n",
    "New column is created because `:body_mass_kg` is a new key."
   ]
  },
  {
   "cell_type": "code",
   "execution_count": 7,
   "id": "6eec556b-e310-4d76-8279-acae1fe039ec",
   "metadata": {},
   "outputs": [
    {
     "data": {
      "text/html": [
       "RedAmber::DataFrame <344 x 2 vectors> <table><tr><th>body_mass_g</th><th>body_mass_kg</th></tr><tr><td>3750</td><td>3.75</td></tr><tr><td>3800</td><td>3.8</td></tr><tr><td>3250</td><td>3.25</td></tr><tr><td><i>(nil)</i></td><td><i>(nil)</i></td></tr><tr><td colspan='2'>&#8942;</td></tr><tr><td>5750</td><td>5.75</td></tr><tr><td>5200</td><td>5.2</td></tr><tr><td>5400</td><td>5.4</td></tr></table>"
      ],
      "text/plain": [
       "#<RedAmber::DataFrame : 344 x 2 Vectors, 0x000000000000f118>\n",
       "    body_mass_g body_mass_kg\n",
       "       <uint16>     <double>\n",
       "  1        3750         3.75\n",
       "  2        3800          3.8\n",
       "  3        3250         3.25\n",
       "  4       (nil)        (nil)\n",
       "  5        3450         3.45\n",
       "  :           :            :\n",
       "342        5750         5.75\n",
       "343        5200          5.2\n",
       "344        5400          5.4\n"
      ]
     },
     "execution_count": 7,
     "metadata": {},
     "output_type": "execute_result"
    }
   ],
   "source": [
    "df2.assign(:body_mass_kg => df2[:body_mass_g] / 1000.0)"
   ]
  },
  {
   "cell_type": "markdown",
   "id": "96d52736-eae1-41de-a563-1a7074949c6a",
   "metadata": {},
   "source": [
    "`DataFrame#slice` selects rows (observations) to create a sub DataFrame.\n",
    "\n",
    "![slice method image](https://raw.githubusercontent.com/heronshoes/red_amber/master/doc/image/dataframe/slice.png)\n",
    "\n",
    "Returns 5 rows at the start and 5 rows from the end."
   ]
  },
  {
   "cell_type": "code",
   "execution_count": 8,
   "id": "d812d4db-6c46-4054-b4fd-b03cc7835973",
   "metadata": {},
   "outputs": [
    {
     "data": {
      "text/html": [
       "RedAmber::DataFrame <10 x 8 vectors> <table><tr><th>species</th><th>island</th><th>bill_length_mm</th><th>bill_depth_mm</th><th>flipper_length_mm</th><th>body_mass_g</th><th>sex</th><th>year</th></tr><tr><td>Adelie</td><td>Torgersen</td><td>39.1</td><td>18.7</td><td>181</td><td>3750</td><td>male</td><td>2007</td></tr><tr><td>Adelie</td><td>Torgersen</td><td>39.5</td><td>17.4</td><td>186</td><td>3800</td><td>female</td><td>2007</td></tr><tr><td>Adelie</td><td>Torgersen</td><td>40.3</td><td>18.0</td><td>195</td><td>3250</td><td>female</td><td>2007</td></tr><tr><td>Adelie</td><td>Torgersen</td><td><i>(nil)</i></td><td><i>(nil)</i></td><td><i>(nil)</i></td><td><i>(nil)</i></td><td><i>(nil)</i></td><td>2007</td></tr><tr><td colspan='8'>&#8942;</td></tr><tr><td>Gentoo</td><td>Biscoe</td><td>50.4</td><td>15.7</td><td>222</td><td>5750</td><td>male</td><td>2009</td></tr><tr><td>Gentoo</td><td>Biscoe</td><td>45.2</td><td>14.8</td><td>212</td><td>5200</td><td>female</td><td>2009</td></tr><tr><td>Gentoo</td><td>Biscoe</td><td>49.9</td><td>16.1</td><td>213</td><td>5400</td><td>male</td><td>2009</td></tr></table>"
      ],
      "text/plain": [
       "#<RedAmber::DataFrame : 10 x 8 Vectors, 0x000000000000f12c>\n",
       "   species  island    bill_length_mm bill_depth_mm flipper_length_mm ...     year\n",
       "   <string> <string>        <double>      <double>           <uint8> ... <uint16>\n",
       " 1 Adelie   Torgersen           39.1          18.7               181 ...     2007\n",
       " 2 Adelie   Torgersen           39.5          17.4               186 ...     2007\n",
       " 3 Adelie   Torgersen           40.3          18.0               195 ...     2007\n",
       " 4 Adelie   Torgersen          (nil)         (nil)             (nil) ...     2007\n",
       " 5 Adelie   Torgersen           36.7          19.3               193 ...     2007\n",
       " : :        :                      :             :                 : ...        :\n",
       " 8 Gentoo   Biscoe              50.4          15.7               222 ...     2009\n",
       " 9 Gentoo   Biscoe              45.2          14.8               212 ...     2009\n",
       "10 Gentoo   Biscoe              49.9          16.1               213 ...     2009\n"
      ]
     },
     "execution_count": 8,
     "metadata": {},
     "output_type": "execute_result"
    }
   ],
   "source": [
    "penguins.slice(0...5, -5..-1)"
   ]
  },
  {
   "cell_type": "markdown",
   "id": "662696c6-c1d9-4b61-9830-ce52c9dd896f",
   "metadata": {},
   "source": [
    "`DataFrame#remove` rejects rows (observations) to create a remainer DataFrame.\n",
    "\n",
    "![remove method image](https://github.com/heronshoes/red_amber/raw/master/doc/image/dataframe/remove.png)"
   ]
  },
  {
   "cell_type": "markdown",
   "id": "066a7b0b-73da-4bd5-97eb-07f5cd9a2460",
   "metadata": {},
   "source": [
    "DataFrame manipulating methods like `pick`, `drop`, `slice`, `remove`, `rename` and `assign` accept a block.\n",
    "\n",
    "Previous example is also OK with a block."
   ]
  },
  {
   "cell_type": "code",
   "execution_count": 9,
   "id": "9317fb01-78fa-4c75-ab7f-ddf71f31a590",
   "metadata": {},
   "outputs": [
    {
     "data": {
      "text/html": [
       "RedAmber::DataFrame <244 x 8 vectors> <table><tr><th>species</th><th>island</th><th>bill_length_mm</th><th>bill_depth_mm</th><th>flipper_length_mm</th><th>body_mass_g</th><th>sex</th><th>year</th></tr><tr><td>Adelie</td><td>Torgersen</td><td>40.3</td><td>18.0</td><td>195</td><td>3250</td><td>female</td><td>2007</td></tr><tr><td>Adelie</td><td>Torgersen</td><td><i>(nil)</i></td><td><i>(nil)</i></td><td><i>(nil)</i></td><td><i>(nil)</i></td><td><i>(nil)</i></td><td>2007</td></tr><tr><td>Adelie</td><td>Torgersen</td><td>42.0</td><td>20.2</td><td>190</td><td>4250</td><td><i>(nil)</i></td><td>2007</td></tr><tr><td>Adelie</td><td>Torgersen</td><td>41.1</td><td>17.6</td><td>182</td><td>3200</td><td>female</td><td>2007</td></tr><tr><td colspan='8'>&#8942;</td></tr><tr><td>Gentoo</td><td>Biscoe</td><td>50.4</td><td>15.7</td><td>222</td><td>5750</td><td>male</td><td>2009</td></tr><tr><td>Gentoo</td><td>Biscoe</td><td>45.2</td><td>14.8</td><td>212</td><td>5200</td><td>female</td><td>2009</td></tr><tr><td>Gentoo</td><td>Biscoe</td><td>49.9</td><td>16.1</td><td>213</td><td>5400</td><td>male</td><td>2009</td></tr></table>"
      ],
      "text/plain": [
       "#<RedAmber::DataFrame : 244 x 8 Vectors, 0x000000000000f140>\n",
       "    species  island    bill_length_mm bill_depth_mm flipper_length_mm ...     year\n",
       "    <string> <string>        <double>      <double>           <uint8> ... <uint16>\n",
       "  1 Adelie   Torgersen           40.3          18.0               195 ...     2007\n",
       "  2 Adelie   Torgersen          (nil)         (nil)             (nil) ...     2007\n",
       "  3 Adelie   Torgersen           42.0          20.2               190 ...     2007\n",
       "  4 Adelie   Torgersen           41.1          17.6               182 ...     2007\n",
       "  5 Adelie   Torgersen           42.5          20.7               197 ...     2007\n",
       "  : :        :                      :             :                 : ...        :\n",
       "242 Gentoo   Biscoe              50.4          15.7               222 ...     2009\n",
       "243 Gentoo   Biscoe              45.2          14.8               212 ...     2009\n",
       "244 Gentoo   Biscoe              49.9          16.1               213 ...     2009\n"
      ]
     },
     "execution_count": 9,
     "metadata": {},
     "output_type": "execute_result"
    }
   ],
   "source": [
    "penguins.remove { bill_length_mm < 40 }"
   ]
  },
  {
   "cell_type": "markdown",
   "id": "e186bfce-f157-42c4-8952-e11499e9d31a",
   "metadata": {},
   "source": [
    "Next example is an usage of block to update a column."
   ]
  },
  {
   "cell_type": "code",
   "execution_count": 10,
   "id": "54dc1b07-0243-4006-897a-23b9f27691f7",
   "metadata": {},
   "outputs": [
    {
     "data": {
      "text/html": [
       "RedAmber::DataFrame <5 x 4 vectors> <table><tr><th>integer</th><th>float</th><th>string</th><th>boolean</th></tr><tr><td>0</td><td>0.0</td><td>A</td><td>true</td></tr><tr><td>1</td><td>1.1</td><td>B</td><td>false</td></tr><tr><td>2</td><td>2.2</td><td>C</td><td>true</td></tr><tr><td>3</td><td>NaN</td><td>D</td><td>false</td></tr><tr><td><i>(nil)</i></td><td><i>(nil)</i></td><td><i>(nil)</i></td><td><i>(nil)</i></td></tr></table>"
      ],
      "text/plain": [
       "#<RedAmber::DataFrame : 5 x 4 Vectors, 0x000000000000f154>\n",
       "  integer    float string   boolean\n",
       "  <uint8> <double> <string> <boolean>\n",
       "1       0      0.0 A        true\n",
       "2       1      1.1 B        false\n",
       "3       2      2.2 C        true\n",
       "4       3      NaN D        false\n",
       "5   (nil)    (nil) (nil)    (nil)\n"
      ]
     },
     "execution_count": 10,
     "metadata": {},
     "output_type": "execute_result"
    }
   ],
   "source": [
    "df3 = RedAmber::DataFrame.new(\n",
    "  integer: [0, 1, 2, 3, nil],\n",
    "  float:   [0.0, 1.1,  2.2, Float::NAN, nil],\n",
    "  string:  ['A', 'B', 'C', 'D', nil],\n",
    "  boolean: [true, false, true, false, nil])"
   ]
  },
  {
   "cell_type": "code",
   "execution_count": 11,
   "id": "73eb22c3-4073-4bb2-bc4c-0b24cbdac64a",
   "metadata": {},
   "outputs": [
    {
     "data": {
      "text/html": [
       "RedAmber::DataFrame <5 x 4 vectors> <table><tr><th>integer</th><th>float</th><th>string</th><th>boolean</th></tr><tr><td>0</td><td>-0.0</td><td>A</td><td>true</td></tr><tr><td>1</td><td>-1.1</td><td>B</td><td>false</td></tr><tr><td>2</td><td>-2.2</td><td>C</td><td>true</td></tr><tr><td>3</td><td>NaN</td><td>D</td><td>false</td></tr><tr><td><i>(nil)</i></td><td><i>(nil)</i></td><td><i>(nil)</i></td><td><i>(nil)</i></td></tr></table>"
      ],
      "text/plain": [
       "#<RedAmber::DataFrame : 5 x 4 Vectors, 0x000000000000f168>\n",
       "  integer    float string   boolean\n",
       "  <uint8> <double> <string> <boolean>\n",
       "1       0     -0.0 A        true\n",
       "2       1     -1.1 B        false\n",
       "3       2     -2.2 C        true\n",
       "4       3      NaN D        false\n",
       "5   (nil)    (nil) (nil)    (nil)\n"
      ]
     },
     "execution_count": 11,
     "metadata": {},
     "output_type": "execute_result"
    }
   ],
   "source": [
    "df3.assign do\n",
    "  vectors.select(&:float?).map { |v| [v.key, -v] }\n",
    "  # => returns [[:float], [-0.0, -1.1, -2.2, NAN, nil]]\n",
    "end"
   ]
  },
  {
   "cell_type": "markdown",
   "id": "22900c02-8e79-4d51-86eb-030beb0a8e94",
   "metadata": {},
   "source": [
    "Next example is to eliminate rows containing nil.\n",
    "\n",
    "Remove all observations containing nil"
   ]
  },
  {
   "cell_type": "code",
   "execution_count": 12,
   "id": "027a3ad0-53ff-4248-868a-5d67172a3220",
   "metadata": {},
   "outputs": [
    {
     "data": {
      "text/html": [
       "RedAmber::DataFrame <4 x 4 vectors> <table><tr><th>integer</th><th>float</th><th>string</th><th>boolean</th></tr><tr><td>0</td><td>0.0</td><td>A</td><td>true</td></tr><tr><td>1</td><td>1.1</td><td>B</td><td>false</td></tr><tr><td>2</td><td>2.2</td><td>C</td><td>true</td></tr><tr><td>3</td><td>NaN</td><td>D</td><td>false</td></tr></table>"
      ],
      "text/plain": [
       "#<RedAmber::DataFrame : 4 x 4 Vectors, 0x000000000000f17c>\n",
       "  integer    float string   boolean\n",
       "  <uint8> <double> <string> <boolean>\n",
       "1       0      0.0 A        true\n",
       "2       1      1.1 B        false\n",
       "3       2      2.2 C        true\n",
       "4       3      NaN D        false\n"
      ]
     },
     "execution_count": 12,
     "metadata": {},
     "output_type": "execute_result"
    }
   ],
   "source": [
    "df3.remove { vectors.map(&:is_nil).reduce(&:|) }"
   ]
  },
  {
   "cell_type": "markdown",
   "id": "d261cb7d-093c-4621-9a67-c58c587f439c",
   "metadata": {},
   "source": [
    "For this frequently needed task, we can do it much simpler."
   ]
  },
  {
   "cell_type": "code",
   "execution_count": 13,
   "id": "6dc039be-b78d-4c3a-9605-c425d544099d",
   "metadata": {},
   "outputs": [
    {
     "data": {
      "text/html": [
       "RedAmber::DataFrame <4 x 4 vectors> <table><tr><th>integer</th><th>float</th><th>string</th><th>boolean</th></tr><tr><td>0</td><td>0.0</td><td>A</td><td>true</td></tr><tr><td>1</td><td>1.1</td><td>B</td><td>false</td></tr><tr><td>2</td><td>2.2</td><td>C</td><td>true</td></tr><tr><td>3</td><td>NaN</td><td>D</td><td>false</td></tr></table>"
      ],
      "text/plain": [
       "#<RedAmber::DataFrame : 4 x 4 Vectors, 0x000000000000f190>\n",
       "  integer    float string   boolean\n",
       "  <uint8> <double> <string> <boolean>\n",
       "1       0      0.0 A        true\n",
       "2       1      1.1 B        false\n",
       "3       2      2.2 C        true\n",
       "4       3      NaN D        false\n"
      ]
     },
     "execution_count": 13,
     "metadata": {},
     "output_type": "execute_result"
    }
   ],
   "source": [
    "df3.remove_nil # => same result as above"
   ]
  },
  {
   "cell_type": "markdown",
   "id": "e44d3b12-d8f3-425f-8fe3-c2baf0ddb0a8",
   "metadata": {},
   "source": [
    "`DataFrame#summary` shows summary statistics in a DataFrame."
   ]
  },
  {
   "cell_type": "code",
   "execution_count": 14,
   "id": "363ed6b5-c33a-4d37-8687-197a51ac534a",
   "metadata": {},
   "outputs": [
    {
     "data": {
      "text/html": [
       "RedAmber::DataFrame <5 x 9 vectors> <table><tr><th>variables</th><th>count</th><th>mean</th><th>std</th><th>min</th><th>25%</th><th>median</th><th>75%</th><th>max</th></tr><tr><td>bill_length_mm</td><td>342</td><td>43.92192982456141</td><td>5.4595837139265315</td><td>32.1</td><td>39.225</td><td>44.382000000000005</td><td>48.5</td><td>59.6</td></tr><tr><td>bill_depth_mm</td><td>342</td><td>17.151169590643274</td><td>1.9747931568167814</td><td>13.1</td><td>15.6</td><td>17.32</td><td>18.7</td><td>21.5</td></tr><tr><td>flipper_length_mm</td><td>342</td><td>200.91520467836258</td><td>14.061713679356888</td><td>172.0</td><td>190.0</td><td>197.0</td><td>213.0</td><td>231.0</td></tr><tr><td>body_mass_g</td><td>342</td><td>4201.754385964912</td><td>801.9545356980955</td><td>2700.0</td><td>3550.0</td><td>4031.5</td><td>4750.0</td><td>6300.0</td></tr><tr><td>year</td><td>344</td><td>2008.0290697674418</td><td>0.8183559254837041</td><td>2007.0</td><td>2007.0</td><td>2008.0</td><td>2009.0</td><td>2009.0</td></tr></table>"
      ],
      "text/plain": [
       "#<RedAmber::DataFrame : 5 x 9 Vectors, 0x000000000000f1a4>\n",
       "  variables            count     mean      std      min      25%   median ...      max\n",
       "  <dictionary>      <uint16> <double> <double> <double> <double> <double> ... <double>\n",
       "1 bill_length_mm         342    43.92     5.46     32.1    39.23    44.38 ...     59.6\n",
       "2 bill_depth_mm          342    17.15     1.97     13.1     15.6    17.32 ...     21.5\n",
       "3 flipper_length_mm      342   200.92    14.06    172.0    190.0    197.0 ...    231.0\n",
       "4 body_mass_g            342  4201.75   801.95   2700.0   3550.0   4031.5 ...   6300.0\n",
       "5 year                   344  2008.03     0.82   2007.0   2007.0   2008.0 ...   2009.0\n"
      ]
     },
     "execution_count": 14,
     "metadata": {},
     "output_type": "execute_result"
    }
   ],
   "source": [
    "penguins.summary"
   ]
  },
  {
   "cell_type": "code",
   "execution_count": 15,
   "id": "006003cc-1f40-40c7-8872-4427cb9b3ada",
   "metadata": {},
   "outputs": [
    {
     "name": "stdout",
     "output_type": "stream",
     "text": [
      "  variables            count     mean      std      min      25%   median      75%      max\n",
      "  <dictionary>      <uint16> <double> <double> <double> <double> <double> <double> <double>\n",
      "1 bill_length_mm         342    43.92     5.46     32.1    39.23    44.38     48.5     59.6\n",
      "2 bill_depth_mm          342    17.15     1.97     13.1     15.6    17.32     18.7     21.5\n",
      "3 flipper_length_mm      342   200.92    14.06    172.0    190.0    197.0    213.0    231.0\n",
      "4 body_mass_g            342  4201.75   801.95   2700.0   3550.0   4031.5   4750.0   6300.0\n",
      "5 year                   344  2008.03     0.82   2007.0   2007.0   2008.0   2009.0   2009.0\n"
     ]
    }
   ],
   "source": [
    "puts penguins.summary.to_s(width: 82)"
   ]
  },
  {
   "cell_type": "markdown",
   "id": "eb770ea1-88c5-4e4c-b38a-d63bd8fe971e",
   "metadata": {},
   "source": [
    "`DataFrame#group` method can be used for the grouping tasks."
   ]
  },
  {
   "cell_type": "code",
   "execution_count": 16,
   "id": "4dda220a-3d3b-46e1-8ed5-d033b761399b",
   "metadata": {},
   "outputs": [
    {
     "data": {
      "text/html": [
       "RedAmber::DataFrame <87 x 12 vectors> <table><tr><th>unnamed1</th><th>name</th><th>height</th><th>mass</th><th>hair_color</th><th>skin_color</th><th>eye_color</th><th>birth_year</th><th>sex</th><th>gender</th><th>homeworld</th><th>species</th></tr><tr><td>1</td><td>Luke Skywalker</td><td>172</td><td>77.0</td><td>blond</td><td>fair</td><td>blue</td><td>19.0</td><td>male</td><td>masculine</td><td>Tatooine</td><td>Human</td></tr><tr><td>2</td><td>C-3PO</td><td>167</td><td>75.0</td><td>NA</td><td>gold</td><td>yellow</td><td>112.0</td><td>none</td><td>masculine</td><td>Tatooine</td><td>Droid</td></tr><tr><td>3</td><td>R2-D2</td><td>96</td><td>32.0</td><td>NA</td><td>white, blue</td><td>red</td><td>33.0</td><td>none</td><td>masculine</td><td>Naboo</td><td>Droid</td></tr><tr><td>4</td><td>Darth Vader</td><td>202</td><td>136.0</td><td>none</td><td>white</td><td>yellow</td><td>41.9</td><td>male</td><td>masculine</td><td>Tatooine</td><td>Human</td></tr><tr><td colspan='12'>&#8942;</td></tr><tr><td>85</td><td>BB8</td><td><i>(nil)</i></td><td><i>(nil)</i></td><td>none</td><td>none</td><td>black</td><td><i>(nil)</i></td><td>none</td><td>masculine</td><td>NA</td><td>Droid</td></tr><tr><td>86</td><td>Captain Phasma</td><td><i>(nil)</i></td><td><i>(nil)</i></td><td>unknown</td><td>unknown</td><td>unknown</td><td><i>(nil)</i></td><td>NA</td><td>NA</td><td>NA</td><td>NA</td></tr><tr><td>87</td><td>Padmé Amidala</td><td>165</td><td>45.0</td><td>brown</td><td>light</td><td>brown</td><td>46.0</td><td>female</td><td>feminine</td><td>Naboo</td><td>Human</td></tr></table>"
      ],
      "text/plain": [
       "#<RedAmber::DataFrame : 87 x 12 Vectors, 0x000000000000f1b8>\n",
       "   unnamed1 name            height     mass hair_color skin_color  eye_color ... species\n",
       "    <int64> <string>       <int64> <double> <string>   <string>    <string>  ... <string>\n",
       " 1        1 Luke Skywalker     172     77.0 blond      fair        blue      ... Human\n",
       " 2        2 C-3PO              167     75.0 NA         gold        yellow    ... Droid\n",
       " 3        3 R2-D2               96     32.0 NA         white, blue red       ... Droid\n",
       " 4        4 Darth Vader        202    136.0 none       white       yellow    ... Human\n",
       " 5        5 Leia Organa        150     49.0 brown      light       brown     ... Human\n",
       " :        : :                    :        : :          :           :         ... :\n",
       "85       85 BB8              (nil)    (nil) none       none        black     ... Droid\n",
       "86       86 Captain Phasma   (nil)    (nil) unknown    unknown     unknown   ... NA\n",
       "87       87 Padmé Amidala      165     45.0 brown      light       brown     ... Human\n"
      ]
     },
     "execution_count": 16,
     "metadata": {},
     "output_type": "execute_result"
    }
   ],
   "source": [
    "starwars = RedAmber::DataFrame.load(URI(\"https://vincentarelbundock.github.io/Rdatasets/csv/dplyr/starwars.csv\"))"
   ]
  },
  {
   "cell_type": "code",
   "execution_count": 17,
   "id": "f1559f13-bca7-4d32-a411-04ecc66537f0",
   "metadata": {},
   "outputs": [
    {
     "data": {
      "text/html": [
       "RedAmber::DataFrame <9 x 4 vectors> <table><tr><th>species</th><th>count</th><th>mean(height)</th><th>mean(mass)</th></tr><tr><td>Human</td><td>35</td><td>176.6451612903226</td><td>82.78181818181818</td></tr><tr><td>Droid</td><td>6</td><td>131.2</td><td>69.75</td></tr><tr><td>Wookiee</td><td>2</td><td>231.0</td><td>124.0</td></tr><tr><td>Gungan</td><td>3</td><td>208.66666666666666</td><td>74.0</td></tr><tr><td colspan='4'>&#8942;</td></tr><tr><td>Twi'lek</td><td>2</td><td>179.0</td><td>55.0</td></tr><tr><td>Mirialan</td><td>2</td><td>168.0</td><td>53.1</td></tr><tr><td>Kaminoan</td><td>2</td><td>221.0</td><td>88.0</td></tr></table>"
      ],
      "text/plain": [
       "#<RedAmber::DataFrame : 9 x 4 Vectors, 0x000000000000f1cc>\n",
       "  species    count mean(height) mean(mass)\n",
       "  <string> <int64>     <double>   <double>\n",
       "1 Human         35       176.65      82.78\n",
       "2 Droid          6        131.2      69.75\n",
       "3 Wookiee        2        231.0      124.0\n",
       "4 Gungan         3       208.67       74.0\n",
       "5 NA             4       181.33       48.0\n",
       "6 Zabrak         2        173.0       80.0\n",
       "7 Twi'lek        2        179.0       55.0\n",
       "8 Mirialan       2        168.0       53.1\n",
       "9 Kaminoan       2        221.0       88.0\n"
      ]
     },
     "execution_count": 17,
     "metadata": {},
     "output_type": "execute_result"
    }
   ],
   "source": [
    "starwars.group(:species) { [count(:species), mean(:height, :mass)] }\n",
    "        .slice { count > 1 }"
   ]
  },
  {
   "cell_type": "markdown",
   "id": "24d8879d-248e-407d-a79a-201cd180dbe6",
   "metadata": {},
   "source": [
    "## `RedAmber::Vector`\n",
    "\n",
    "Class `RedAmber::Vector` represents a series of data in the DataFrame.\n",
    "Method `RedAmber::DataFrame#[key]` returns a Vector with the key `key`. "
   ]
  },
  {
   "cell_type": "code",
   "execution_count": 51,
   "id": "2527f990-2b55-4ee9-8055-a52c24cbe967",
   "metadata": {},
   "outputs": [
    {
     "data": {
      "text/plain": [
       "#<RedAmber::Vector(:double, size=344):0x000000000000f320>\n",
       "[39.1, 39.5, 40.3, nil, 36.7, 39.3, 38.9, 39.2, 34.1, 42.0, 37.8, 37.8, 41.1, ... ]\n"
      ]
     },
     "execution_count": 51,
     "metadata": {},
     "output_type": "execute_result"
    }
   ],
   "source": [
    "penguins[:bill_length_mm]"
   ]
  },
  {
   "cell_type": "markdown",
   "id": "5fd0ba81-0753-4894-8271-cc3954a4a0e2",
   "metadata": {},
   "source": [
    "Vectors accepts some [functional methods from Arrow](https://arrow.apache.org/docs/cpp/compute.html).\n",
    "\n",
    "This is an element-wise comparison and returns a boolean Vector of same size.\n",
    "\n",
    "![unary element-wise](https://github.com/heronshoes/red_amber/raw/master/doc/image/vector/unary_element_wise.png)"
   ]
  },
  {
   "cell_type": "code",
   "execution_count": 52,
   "id": "c5988144-311d-41d4-8dec-818ccfb0800e",
   "metadata": {},
   "outputs": [
    {
     "data": {
      "text/plain": [
       "#<RedAmber::Vector(:boolean, size=344):0x000000000000f334>\n",
       "[true, true, false, nil, true, true, true, true, true, false, true, true, false, ... ]\n"
      ]
     },
     "execution_count": 52,
     "metadata": {},
     "output_type": "execute_result"
    }
   ],
   "source": [
    "penguins[:bill_length_mm] < 40"
   ]
  },
  {
   "cell_type": "markdown",
   "id": "3cea4f98-6ca7-4a3f-bca8-1f7ee15cf19b",
   "metadata": {},
   "source": [
    "Next example returns aggregated result.\n",
    "\n",
    "![unary aggregation](https://github.com/heronshoes/red_amber/raw/master/doc/image/vector/unary_aggregation.png)"
   ]
  },
  {
   "cell_type": "code",
   "execution_count": 53,
   "id": "9fe7a272-d3a7-470d-b3b9-488fa02fcbc0",
   "metadata": {},
   "outputs": [
    {
     "data": {
      "text/plain": [
       "43.92192982456141"
      ]
     },
     "execution_count": 53,
     "metadata": {},
     "output_type": "execute_result"
    }
   ],
   "source": [
    "penguins[:bill_length_mm].mean"
   ]
  },
  {
   "cell_type": "markdown",
   "id": "97c4f9e6-6fa6-4918-8788-ac5c2a66d462",
   "metadata": {},
   "source": [
    "## Another Jupyter notebook\n",
    "\n",
    "[Examples of Red Amber](examples_of_red_amber.ipynb) shows more examples in jupyter notebook."
   ]
  }
 ],
 "metadata": {
  "kernelspec": {
   "display_name": "Ruby 3.1.2",
   "language": "ruby",
   "name": "ruby"
  },
  "language_info": {
   "file_extension": ".rb",
   "mimetype": "application/x-ruby",
   "name": "ruby",
   "version": "3.1.2"
  }
 },
 "nbformat": 4,
 "nbformat_minor": 5
}
